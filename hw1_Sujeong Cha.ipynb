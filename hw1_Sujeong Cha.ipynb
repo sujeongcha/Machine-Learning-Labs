{
 "cells": [
  {
   "cell_type": "markdown",
   "metadata": {},
   "source": [
    "# Homework 1: Perceptron Algorithm"
   ]
  },
  {
   "cell_type": "markdown",
   "metadata": {},
   "source": [
    "## Name: Sujeong Cha   /   NetID: sjc433"
   ]
  },
  {
   "cell_type": "code",
   "execution_count": 1,
   "metadata": {},
   "outputs": [],
   "source": [
    "# Load necessary packages and data\n",
    "import numpy as np\n",
    "import pandas as pd\n",
    "import matplotlib.pyplot as plt\n",
    "import warnings\n",
    "warnings.filterwarnings(\"ignore\")\n",
    "\n",
    "data = pd.read_csv(\"spam_train.txt\", sep='\\n', header=None, names = ['email'])\n",
    "data['label'] = [x.split(\" \", 1)[0] for x in data['email']]\n",
    "data['label'] = [-1 if x == '0' else 1 for x in data['label'] ]\n",
    "data['email'] = [x.split(\" \", 1)[1] for x in data['email']]"
   ]
  },
  {
   "cell_type": "markdown",
   "metadata": {},
   "source": [
    "## Problem 1"
   ]
  },
  {
   "cell_type": "code",
   "execution_count": 2,
   "metadata": {},
   "outputs": [
    {
     "data": {
      "text/html": [
       "<div>\n",
       "<style scoped>\n",
       "    .dataframe tbody tr th:only-of-type {\n",
       "        vertical-align: middle;\n",
       "    }\n",
       "\n",
       "    .dataframe tbody tr th {\n",
       "        vertical-align: top;\n",
       "    }\n",
       "\n",
       "    .dataframe thead th {\n",
       "        text-align: right;\n",
       "    }\n",
       "</style>\n",
       "<table border=\"1\" class=\"dataframe\">\n",
       "  <thead>\n",
       "    <tr style=\"text-align: right;\">\n",
       "      <th></th>\n",
       "      <th>email</th>\n",
       "      <th>label</th>\n",
       "    </tr>\n",
       "  </thead>\n",
       "  <tbody>\n",
       "    <tr>\n",
       "      <th>0</th>\n",
       "      <td>public announc the new domain name ar final av...</td>\n",
       "      <td>1</td>\n",
       "    </tr>\n",
       "    <tr>\n",
       "      <th>1</th>\n",
       "      <td>have tax problem do you ow the ir monei if you...</td>\n",
       "      <td>1</td>\n",
       "    </tr>\n",
       "    <tr>\n",
       "      <th>2</th>\n",
       "      <td>r robert harlei write r scuse me for post in g...</td>\n",
       "      <td>-1</td>\n",
       "    </tr>\n",
       "    <tr>\n",
       "      <th>3</th>\n",
       "      <td>on wed number oct number brian fahrland wrote ...</td>\n",
       "      <td>-1</td>\n",
       "    </tr>\n",
       "    <tr>\n",
       "      <th>4</th>\n",
       "      <td>quot ronan waid sure but soft link would do th...</td>\n",
       "      <td>-1</td>\n",
       "    </tr>\n",
       "  </tbody>\n",
       "</table>\n",
       "</div>"
      ],
      "text/plain": [
       "                                               email  label\n",
       "0  public announc the new domain name ar final av...      1\n",
       "1  have tax problem do you ow the ir monei if you...      1\n",
       "2  r robert harlei write r scuse me for post in g...     -1\n",
       "3  on wed number oct number brian fahrland wrote ...     -1\n",
       "4  quot ronan waid sure but soft link would do th...     -1"
      ]
     },
     "metadata": {},
     "output_type": "display_data"
    },
    {
     "data": {
      "text/html": [
       "<div>\n",
       "<style scoped>\n",
       "    .dataframe tbody tr th:only-of-type {\n",
       "        vertical-align: middle;\n",
       "    }\n",
       "\n",
       "    .dataframe tbody tr th {\n",
       "        vertical-align: top;\n",
       "    }\n",
       "\n",
       "    .dataframe thead th {\n",
       "        text-align: right;\n",
       "    }\n",
       "</style>\n",
       "<table border=\"1\" class=\"dataframe\">\n",
       "  <thead>\n",
       "    <tr style=\"text-align: right;\">\n",
       "      <th></th>\n",
       "      <th>email</th>\n",
       "      <th>label</th>\n",
       "    </tr>\n",
       "  </thead>\n",
       "  <tbody>\n",
       "    <tr>\n",
       "      <th>4000</th>\n",
       "      <td>onc upon a time yen wrote how do i instal add ...</td>\n",
       "      <td>-1</td>\n",
       "    </tr>\n",
       "    <tr>\n",
       "      <th>4001</th>\n",
       "      <td>i receiv a spam email that had appar forg the ...</td>\n",
       "      <td>-1</td>\n",
       "    </tr>\n",
       "    <tr>\n",
       "      <th>4002</th>\n",
       "      <td>mother natur all natur marit aid for men and w...</td>\n",
       "      <td>1</td>\n",
       "    </tr>\n",
       "    <tr>\n",
       "      <th>4003</th>\n",
       "      <td>dear sir ve ve numberjbnumb numberbt ve we hav...</td>\n",
       "      <td>1</td>\n",
       "    </tr>\n",
       "    <tr>\n",
       "      <th>4004</th>\n",
       "      <td>httpaddr act dtl open argument ar set to begin...</td>\n",
       "      <td>-1</td>\n",
       "    </tr>\n",
       "  </tbody>\n",
       "</table>\n",
       "</div>"
      ],
      "text/plain": [
       "                                                  email  label\n",
       "4000  onc upon a time yen wrote how do i instal add ...     -1\n",
       "4001  i receiv a spam email that had appar forg the ...     -1\n",
       "4002  mother natur all natur marit aid for men and w...      1\n",
       "4003  dear sir ve ve numberjbnumb numberbt ve we hav...      1\n",
       "4004  httpaddr act dtl open argument ar set to begin...     -1"
      ]
     },
     "metadata": {},
     "output_type": "display_data"
    }
   ],
   "source": [
    "# Randomly split into the training and validation set\n",
    "def train_valid_split(data, N):\n",
    "    train, valid = data.loc[:N-1, :], data.loc[4000:, :]   # Size of validation set is fixed\n",
    "    return train, valid\n",
    "\n",
    "train = train_valid_split(data, 4000)[0]\n",
    "valid = train_valid_split(data, 4000)[1]\n",
    "\n",
    "display(train.head())\n",
    "display(valid.head())"
   ]
  },
  {
   "cell_type": "markdown",
   "metadata": {},
   "source": [
    "If we had not created the validation set, the model might overfit on the training data and lose generalizability to other unseen data."
   ]
  },
  {
   "cell_type": "markdown",
   "metadata": {},
   "source": [
    "## Problem 2 "
   ]
  },
  {
   "cell_type": "code",
   "execution_count": 3,
   "metadata": {},
   "outputs": [
    {
     "name": "stdout",
     "output_type": "stream",
     "text": [
      "The length of our vocabulary list is 2376.\n"
     ]
    }
   ],
   "source": [
    "# Build a vocabulary list\n",
    "def build_vocab_list(train, min_email):\n",
    "    train_splits = [str(x).split(\" \") for x in train['email']]\n",
    "    train_splits_set = [list(set(x)) for x in train_splits]\n",
    "    \n",
    "    vocab = {}\n",
    "    for row in train_splits_set:\n",
    "        for word in row:\n",
    "            if word in vocab.keys(): vocab[word] += 1\n",
    "            else: vocab[word] = 1\n",
    "    \n",
    "    vocablist = []\n",
    "    for (key, value) in vocab.items():\n",
    "        if value >= min_email: vocablist.append(key)\n",
    "    \n",
    "    return vocablist\n",
    "\n",
    "vocablist = build_vocab_list(train, 30)\n",
    "\n",
    "print(\"The length of our vocabulary list is \" + str(len(vocablist)) + \".\")"
   ]
  },
  {
   "cell_type": "code",
   "execution_count": 4,
   "metadata": {
    "scrolled": true
   },
   "outputs": [],
   "source": [
    "# Transform all of the data into feature vectors\n",
    "def to_feature_vector(data, vlist):\n",
    "    splits = [str(x).split(\" \") for x in data['email']]\n",
    "    feature_all = []\n",
    "    for row in splits:\n",
    "        feature = [1 if x in row else 0 for x in vlist]\n",
    "        feature_all.append(feature)\n",
    "    return np.array(feature_all)\n",
    "\n",
    "train_fvec = to_feature_vector(train, vocablist)\n",
    "valid_fvec = to_feature_vector(valid, vocablist)"
   ]
  },
  {
   "cell_type": "code",
   "execution_count": 5,
   "metadata": {},
   "outputs": [
    {
     "data": {
      "text/html": [
       "<div>\n",
       "<style scoped>\n",
       "    .dataframe tbody tr th:only-of-type {\n",
       "        vertical-align: middle;\n",
       "    }\n",
       "\n",
       "    .dataframe tbody tr th {\n",
       "        vertical-align: top;\n",
       "    }\n",
       "\n",
       "    .dataframe thead th {\n",
       "        text-align: right;\n",
       "    }\n",
       "</style>\n",
       "<table border=\"1\" class=\"dataframe\">\n",
       "  <thead>\n",
       "    <tr style=\"text-align: right;\">\n",
       "      <th></th>\n",
       "      <th>email</th>\n",
       "      <th>label</th>\n",
       "    </tr>\n",
       "  </thead>\n",
       "  <tbody>\n",
       "    <tr>\n",
       "      <th>0</th>\n",
       "      <td>[1, 1, 1, 1, 1, 1, 1, 1, 1, 1, 1, 1, 1, 1, 1, ...</td>\n",
       "      <td>1</td>\n",
       "    </tr>\n",
       "    <tr>\n",
       "      <th>1</th>\n",
       "      <td>[0, 1, 0, 1, 0, 1, 1, 0, 0, 0, 0, 1, 0, 0, 1, ...</td>\n",
       "      <td>1</td>\n",
       "    </tr>\n",
       "    <tr>\n",
       "      <th>2</th>\n",
       "      <td>[0, 1, 0, 0, 0, 0, 0, 0, 0, 0, 0, 0, 0, 1, 0, ...</td>\n",
       "      <td>-1</td>\n",
       "    </tr>\n",
       "    <tr>\n",
       "      <th>3</th>\n",
       "      <td>[0, 0, 0, 1, 1, 0, 1, 0, 0, 0, 0, 1, 0, 1, 0, ...</td>\n",
       "      <td>-1</td>\n",
       "    </tr>\n",
       "    <tr>\n",
       "      <th>4</th>\n",
       "      <td>[0, 0, 0, 0, 1, 0, 1, 0, 0, 0, 1, 1, 0, 1, 0, ...</td>\n",
       "      <td>-1</td>\n",
       "    </tr>\n",
       "  </tbody>\n",
       "</table>\n",
       "</div>"
      ],
      "text/plain": [
       "                                               email  label\n",
       "0  [1, 1, 1, 1, 1, 1, 1, 1, 1, 1, 1, 1, 1, 1, 1, ...      1\n",
       "1  [0, 1, 0, 1, 0, 1, 1, 0, 0, 0, 0, 1, 0, 0, 1, ...      1\n",
       "2  [0, 1, 0, 0, 0, 0, 0, 0, 0, 0, 0, 0, 0, 1, 0, ...     -1\n",
       "3  [0, 0, 0, 1, 1, 0, 1, 0, 0, 0, 0, 1, 0, 1, 0, ...     -1\n",
       "4  [0, 0, 0, 0, 1, 0, 1, 0, 0, 0, 1, 1, 0, 1, 0, ...     -1"
      ]
     },
     "metadata": {},
     "output_type": "display_data"
    },
    {
     "data": {
      "text/html": [
       "<div>\n",
       "<style scoped>\n",
       "    .dataframe tbody tr th:only-of-type {\n",
       "        vertical-align: middle;\n",
       "    }\n",
       "\n",
       "    .dataframe tbody tr th {\n",
       "        vertical-align: top;\n",
       "    }\n",
       "\n",
       "    .dataframe thead th {\n",
       "        text-align: right;\n",
       "    }\n",
       "</style>\n",
       "<table border=\"1\" class=\"dataframe\">\n",
       "  <thead>\n",
       "    <tr style=\"text-align: right;\">\n",
       "      <th></th>\n",
       "      <th>email</th>\n",
       "      <th>label</th>\n",
       "    </tr>\n",
       "  </thead>\n",
       "  <tbody>\n",
       "    <tr>\n",
       "      <th>4000</th>\n",
       "      <td>[0, 0, 0, 1, 1, 0, 1, 0, 0, 0, 0, 0, 0, 1, 0, ...</td>\n",
       "      <td>-1</td>\n",
       "    </tr>\n",
       "    <tr>\n",
       "      <th>4001</th>\n",
       "      <td>[0, 0, 0, 0, 0, 0, 0, 0, 0, 0, 0, 1, 0, 1, 1, ...</td>\n",
       "      <td>-1</td>\n",
       "    </tr>\n",
       "    <tr>\n",
       "      <th>4002</th>\n",
       "      <td>[0, 1, 0, 0, 0, 0, 1, 0, 0, 0, 0, 1, 0, 0, 0, ...</td>\n",
       "      <td>1</td>\n",
       "    </tr>\n",
       "    <tr>\n",
       "      <th>4003</th>\n",
       "      <td>[0, 1, 0, 1, 0, 0, 1, 0, 0, 0, 0, 1, 0, 0, 0, ...</td>\n",
       "      <td>1</td>\n",
       "    </tr>\n",
       "    <tr>\n",
       "      <th>4004</th>\n",
       "      <td>[0, 0, 0, 0, 1, 0, 0, 0, 0, 1, 0, 1, 0, 1, 0, ...</td>\n",
       "      <td>-1</td>\n",
       "    </tr>\n",
       "  </tbody>\n",
       "</table>\n",
       "</div>"
      ],
      "text/plain": [
       "                                                  email  label\n",
       "4000  [0, 0, 0, 1, 1, 0, 1, 0, 0, 0, 0, 0, 0, 1, 0, ...     -1\n",
       "4001  [0, 0, 0, 0, 0, 0, 0, 0, 0, 0, 0, 1, 0, 1, 1, ...     -1\n",
       "4002  [0, 1, 0, 0, 0, 0, 1, 0, 0, 0, 0, 1, 0, 0, 0, ...      1\n",
       "4003  [0, 1, 0, 1, 0, 0, 1, 0, 0, 0, 0, 1, 0, 0, 0, ...      1\n",
       "4004  [0, 0, 0, 0, 1, 0, 0, 0, 0, 1, 0, 1, 0, 1, 0, ...     -1"
      ]
     },
     "metadata": {},
     "output_type": "display_data"
    }
   ],
   "source": [
    "train['email'], valid['email'] = list(train_fvec), list(valid_fvec)\n",
    "\n",
    "display(train.head())\n",
    "display(valid.head())"
   ]
  },
  {
   "cell_type": "markdown",
   "metadata": {},
   "source": [
    "## Problem 3"
   ]
  },
  {
   "cell_type": "code",
   "execution_count": 6,
   "metadata": {},
   "outputs": [],
   "source": [
    "# Implement the function 'perceptron_train'\n",
    "def perceptron_train(data):\n",
    "    w, klist, epoch = np.zeros(len(vocablist)), [0], 0\n",
    "    for i in range(1, 1000):\n",
    "        k = 0\n",
    "        for j in range(len(data)):\n",
    "            if data['email'][j].sum() == 0: continue\n",
    "            if data['label'][j] * w.dot(data['email'][j]) <= 0:\n",
    "                w += data['label'][j] * data['email'][j]\n",
    "                k += 1\n",
    "        klist.append(k)\n",
    "        epoch += 1\n",
    "        if klist[i] == 0: break\n",
    "    return w, sum(klist), epoch"
   ]
  },
  {
   "cell_type": "code",
   "execution_count": 7,
   "metadata": {},
   "outputs": [],
   "source": [
    "# Implement the function 'perceptron_test'\n",
    "def perceptron_test(w, data):\n",
    "    misclassified = 0\n",
    "    for i in range(len(data)):\n",
    "        if data['email'][i].sum() == 0: continue\n",
    "        if data['label'][i] * w.dot(data['email'][i]) <= 0:\n",
    "            misclassified += 1\n",
    "    test_error = misclassified / len(data)\n",
    "    return test_error"
   ]
  },
  {
   "cell_type": "markdown",
   "metadata": {},
   "source": [
    "## Problem 4"
   ]
  },
  {
   "cell_type": "code",
   "execution_count": 8,
   "metadata": {},
   "outputs": [
    {
     "name": "stdout",
     "output_type": "stream",
     "text": [
      "437 mistakes are made before the algorithm terminates.\n"
     ]
    }
   ],
   "source": [
    "# Train the classifier with training set\n",
    "weight, mistake, epoch = perceptron_train(train)\n",
    "print(mistake, \"mistakes are made before the algorithm terminates.\")"
   ]
  },
  {
   "cell_type": "code",
   "execution_count": 9,
   "metadata": {},
   "outputs": [
    {
     "name": "stdout",
     "output_type": "stream",
     "text": [
      "Our training error is 0.0 .\n"
     ]
    }
   ],
   "source": [
    "# Test the above implementation with training set\n",
    "tr_error = perceptron_test(weight, train)\n",
    "print(\"Our training error is\", tr_error, \".\")"
   ]
  },
  {
   "cell_type": "code",
   "execution_count": 10,
   "metadata": {},
   "outputs": [
    {
     "name": "stdout",
     "output_type": "stream",
     "text": [
      "Our validation error is 0.013 .\n"
     ]
    }
   ],
   "source": [
    "# Test the above implementation with validation set\n",
    "va_error = perceptron_test(weight, valid.reset_index())\n",
    "print(\"Our validation error is\", va_error, \".\")"
   ]
  },
  {
   "cell_type": "markdown",
   "metadata": {},
   "source": [
    "## Problem 5"
   ]
  },
  {
   "cell_type": "code",
   "execution_count": 11,
   "metadata": {},
   "outputs": [],
   "source": [
    "# Create a dataframe with words and their weights\n",
    "vocabdf = pd.DataFrame(weight, index = vocablist, columns = ['weight'])\n",
    "vocabdf = vocabdf.sort_values('weight')"
   ]
  },
  {
   "cell_type": "code",
   "execution_count": 12,
   "metadata": {},
   "outputs": [
    {
     "name": "stdout",
     "output_type": "stream",
     "text": [
      "List of 15 words with the most POSITIVE weights:\n"
     ]
    },
    {
     "data": {
      "text/html": [
       "<div>\n",
       "<style scoped>\n",
       "    .dataframe tbody tr th:only-of-type {\n",
       "        vertical-align: middle;\n",
       "    }\n",
       "\n",
       "    .dataframe tbody tr th {\n",
       "        vertical-align: top;\n",
       "    }\n",
       "\n",
       "    .dataframe thead th {\n",
       "        text-align: right;\n",
       "    }\n",
       "</style>\n",
       "<table border=\"1\" class=\"dataframe\">\n",
       "  <thead>\n",
       "    <tr style=\"text-align: right;\">\n",
       "      <th></th>\n",
       "      <th>sight</th>\n",
       "      <th>click</th>\n",
       "      <th>market</th>\n",
       "      <th>remov</th>\n",
       "      <th>these</th>\n",
       "      <th>our</th>\n",
       "      <th>deathtospamdeathtospamdeathtospam</th>\n",
       "      <th>most</th>\n",
       "      <th>parti</th>\n",
       "      <th>ever</th>\n",
       "      <th>yourself</th>\n",
       "      <th>present</th>\n",
       "      <th>basenumb</th>\n",
       "      <th>guarante</th>\n",
       "      <th>pleas</th>\n",
       "    </tr>\n",
       "  </thead>\n",
       "  <tbody>\n",
       "    <tr>\n",
       "      <th>weight</th>\n",
       "      <td>22.0</td>\n",
       "      <td>18.0</td>\n",
       "      <td>16.0</td>\n",
       "      <td>16.0</td>\n",
       "      <td>16.0</td>\n",
       "      <td>15.0</td>\n",
       "      <td>14.0</td>\n",
       "      <td>13.0</td>\n",
       "      <td>12.0</td>\n",
       "      <td>12.0</td>\n",
       "      <td>12.0</td>\n",
       "      <td>12.0</td>\n",
       "      <td>11.0</td>\n",
       "      <td>11.0</td>\n",
       "      <td>11.0</td>\n",
       "    </tr>\n",
       "  </tbody>\n",
       "</table>\n",
       "</div>"
      ],
      "text/plain": [
       "        sight  click  market  remov  these   our  \\\n",
       "weight   22.0   18.0    16.0   16.0   16.0  15.0   \n",
       "\n",
       "        deathtospamdeathtospamdeathtospam  most  parti  ever  yourself  \\\n",
       "weight                               14.0  13.0   12.0  12.0      12.0   \n",
       "\n",
       "        present  basenumb  guarante  pleas  \n",
       "weight     12.0      11.0      11.0   11.0  "
      ]
     },
     "metadata": {},
     "output_type": "display_data"
    }
   ],
   "source": [
    "# Top 15 words with the most positive weights\n",
    "print(\"List of 15 words with the most POSITIVE weights:\")\n",
    "display(vocabdf[-15:][::-1].T)"
   ]
  },
  {
   "cell_type": "code",
   "execution_count": 13,
   "metadata": {},
   "outputs": [
    {
     "name": "stdout",
     "output_type": "stream",
     "text": [
      "List of 15 words with the most NEGATIVE weights:\n"
     ]
    },
    {
     "data": {
      "text/html": [
       "<div>\n",
       "<style scoped>\n",
       "    .dataframe tbody tr th:only-of-type {\n",
       "        vertical-align: middle;\n",
       "    }\n",
       "\n",
       "    .dataframe tbody tr th {\n",
       "        vertical-align: top;\n",
       "    }\n",
       "\n",
       "    .dataframe thead th {\n",
       "        text-align: right;\n",
       "    }\n",
       "</style>\n",
       "<table border=\"1\" class=\"dataframe\">\n",
       "  <thead>\n",
       "    <tr style=\"text-align: right;\">\n",
       "      <th></th>\n",
       "      <th>wrote</th>\n",
       "      <th>reserv</th>\n",
       "      <th>prefer</th>\n",
       "      <th>copyright</th>\n",
       "      <th>technolog</th>\n",
       "      <th>i</th>\n",
       "      <th>still</th>\n",
       "      <th>someth</th>\n",
       "      <th>recipi</th>\n",
       "      <th>comput</th>\n",
       "      <th>but</th>\n",
       "      <th>which</th>\n",
       "      <th>coupl</th>\n",
       "      <th>url</th>\n",
       "      <th>date</th>\n",
       "    </tr>\n",
       "  </thead>\n",
       "  <tbody>\n",
       "    <tr>\n",
       "      <th>weight</th>\n",
       "      <td>-16.0</td>\n",
       "      <td>-15.0</td>\n",
       "      <td>-14.0</td>\n",
       "      <td>-13.0</td>\n",
       "      <td>-12.0</td>\n",
       "      <td>-12.0</td>\n",
       "      <td>-12.0</td>\n",
       "      <td>-11.0</td>\n",
       "      <td>-11.0</td>\n",
       "      <td>-11.0</td>\n",
       "      <td>-11.0</td>\n",
       "      <td>-11.0</td>\n",
       "      <td>-10.0</td>\n",
       "      <td>-10.0</td>\n",
       "      <td>-10.0</td>\n",
       "    </tr>\n",
       "  </tbody>\n",
       "</table>\n",
       "</div>"
      ],
      "text/plain": [
       "        wrote  reserv  prefer  copyright  technolog     i  still  someth  \\\n",
       "weight  -16.0   -15.0   -14.0      -13.0      -12.0 -12.0  -12.0   -11.0   \n",
       "\n",
       "        recipi  comput   but  which  coupl   url  date  \n",
       "weight   -11.0   -11.0 -11.0  -11.0  -10.0 -10.0 -10.0  "
      ]
     },
     "metadata": {},
     "output_type": "display_data"
    }
   ],
   "source": [
    "# Top 15 words with the most negative weights\n",
    "print(\"List of 15 words with the most NEGATIVE weights:\")\n",
    "display(vocabdf[:15].T)"
   ]
  },
  {
   "cell_type": "markdown",
   "metadata": {},
   "source": [
    "## Problem 6"
   ]
  },
  {
   "cell_type": "code",
   "execution_count": 14,
   "metadata": {},
   "outputs": [],
   "source": [
    "# Implement the averaged perceptron algorithm\n",
    "def perceptron_train_avg(data):\n",
    "    w, wcount, klist, epoch = np.zeros(len(vocablist)), 0, [0], 0\n",
    "    w_accum = np.zeros(len(vocablist))\n",
    "    for i in range(1, 100):\n",
    "        k = 0\n",
    "        for j in range(len(data)):\n",
    "            if data['email'][j].sum() == 0: continue\n",
    "            if data['label'][j] * w.dot(data['email'][j]) <= 0:\n",
    "                w += data['label'][j] * data['email'][j]\n",
    "                k += 1\n",
    "            w_accum += w\n",
    "            wcount += 1\n",
    "        klist.append(k)\n",
    "        epoch += 1\n",
    "        if klist[i] == 0: break\n",
    "    return w_accum / wcount, sum(klist), epoch"
   ]
  },
  {
   "cell_type": "code",
   "execution_count": 15,
   "metadata": {},
   "outputs": [
    {
     "name": "stdout",
     "output_type": "stream",
     "text": [
      "437 mistakes are made before the algorithm terminates.\n"
     ]
    }
   ],
   "source": [
    "# Train the average perceptron classifier with training set\n",
    "weight_avg, mistake_avg, epoch_avg = perceptron_train_avg(train)\n",
    "print(mistake_avg, \"mistakes are made before the algorithm terminates.\")"
   ]
  },
  {
   "cell_type": "code",
   "execution_count": 16,
   "metadata": {},
   "outputs": [
    {
     "name": "stdout",
     "output_type": "stream",
     "text": [
      "Our training error is 0.00075 .\n"
     ]
    }
   ],
   "source": [
    "# Test the above implementation with training set\n",
    "tr_error_avg = perceptron_test(weight_avg, train)\n",
    "print(\"Our training error is\", tr_error_avg, \".\")"
   ]
  },
  {
   "cell_type": "code",
   "execution_count": 17,
   "metadata": {},
   "outputs": [
    {
     "name": "stdout",
     "output_type": "stream",
     "text": [
      "Our validation error is 0.016 .\n"
     ]
    }
   ],
   "source": [
    "# Test the above implementation with validation set\n",
    "va_error_avg = perceptron_test(weight_avg, valid.reset_index())\n",
    "print(\"Our validation error is\", va_error_avg, \".\")"
   ]
  },
  {
   "cell_type": "markdown",
   "metadata": {},
   "source": [
    "## Problem 7 "
   ]
  },
  {
   "cell_type": "code",
   "execution_count": 18,
   "metadata": {},
   "outputs": [],
   "source": [
    "# Run the perceptron and average perceptron algorithm with different training size\n",
    "\n",
    "N = [100, 200, 400, 800, 2000, 4000]\n",
    "\n",
    "perceptron_ve = []\n",
    "perceptron_iter = []\n",
    "\n",
    "avg_perceptron_ve = []\n",
    "avg_perceptron_iter = []\n",
    "\n",
    "for n in N:    \n",
    "    data = pd.read_csv(\"spam_train.txt\", sep='\\n', header=None, names = ['email'])\n",
    "    data['label'] = [x.split(\" \", 1)[0] for x in data['email']]\n",
    "    data['label'] = [-1 if x == '0' else 1 for x in data['label']]\n",
    "    data['email'] = [x.split(\" \", 1)[1] for x in data['email']]\n",
    "\n",
    "    train, valid = train_valid_split(data, n)\n",
    "\n",
    "    vocablist = build_vocab_list(train, 30)\n",
    "    \n",
    "    train_fvec = to_feature_vector(train, vocablist)\n",
    "    valid_fvec = to_feature_vector(valid, vocablist)\n",
    "    train['email'], valid['email'] = list(train_fvec), list(valid_fvec)\n",
    "    \n",
    "    weight, mistake, epoch = perceptron_train(train)\n",
    "    va_error = perceptron_test(weight, valid.reset_index())\n",
    "    perceptron_ve.append(va_error)\n",
    "    perceptron_iter.append(epoch)\n",
    "    \n",
    "    weight_avg, mistake_avg, epoch_avg = perceptron_train_avg(train)\n",
    "    va_error_avg = perceptron_test(weight_avg, valid.reset_index())\n",
    "    avg_perceptron_ve.append(va_error_avg)\n",
    "    avg_perceptron_iter.append(epoch_avg)"
   ]
  },
  {
   "cell_type": "code",
   "execution_count": 19,
   "metadata": {},
   "outputs": [
    {
     "data": {
      "image/png": "[encoded data removed]",
      "text/plain": [
       "<Figure size 720x360 with 1 Axes>"
      ]
     },
     "metadata": {
      "needs_background": "light"
     },
     "output_type": "display_data"
    }
   ],
   "source": [
    "# Plot the validation errors\n",
    "val_err_df = pd.DataFrame(list(zip(N, perceptron_ve, avg_perceptron_ve)), \n",
    "                          columns = ['N', 'Perceptron VE', \"Avg Perceptron VE\"])\n",
    "\n",
    "plt.figure(figsize=(10,5))\n",
    "plt.grid('gray', linestyle = '--')\n",
    "plt.plot(val_err_df['N'], val_err_df['Perceptron VE'], marker = 'o')\n",
    "plt.plot(val_err_df['N'], val_err_df['Avg Perceptron VE'], marker = 'o')\n",
    "plt.title(\"Size of Training Set and Validation Error\", fontsize = 14)\n",
    "plt.xlabel(\"N\")\n",
    "plt.ylabel(\"Validation Error\")\n",
    "plt.legend(val_err_df.columns[1:], fontsize = 12)\n",
    "plt.show()"
   ]
  },
  {
   "cell_type": "markdown",
   "metadata": {},
   "source": [
    "## Problem 8"
   ]
  },
  {
   "cell_type": "code",
   "execution_count": 20,
   "metadata": {},
   "outputs": [
    {
     "data": {
      "image/png": "[encoded data removed]",
      "text/plain": [
       "<Figure size 720x360 with 1 Axes>"
      ]
     },
     "metadata": {
      "needs_background": "light"
     },
     "output_type": "display_data"
    }
   ],
   "source": [
    "# Plot the number of perceptron iterations\n",
    "\n",
    "iter_df = pd.DataFrame(list(zip(N, perceptron_iter, avg_perceptron_iter)), \n",
    "                          columns = ['N', 'Perceptron Epoch', \"Avg Perceptron Epoch\"])\n",
    "\n",
    "plt.figure(figsize=(10,5))\n",
    "plt.grid('gray', linestyle = '--')\n",
    "plt.plot(iter_df['N'], iter_df['Perceptron Epoch'], marker = 'o')\n",
    "plt.plot(iter_df['N'], iter_df['Avg Perceptron Epoch'], marker = 'o')\n",
    "plt.title(\"Size of Training Set and Number of Iterations\", fontsize = 14)\n",
    "plt.xlabel(\"N\")\n",
    "plt.ylabel(\"Number of Iterations\")\n",
    "plt.legend(iter_df.columns[1:], fontsize = 12)\n",
    "plt.show()"
   ]
  },
  {
   "cell_type": "markdown",
   "metadata": {},
   "source": [
    "## Problem 9"
   ]
  },
  {
   "cell_type": "code",
   "execution_count": 21,
   "metadata": {},
   "outputs": [],
   "source": [
    "# Implement the function 'perceptron_train' with max_iter parameter\n",
    "def perceptron_train(data, max_iter):\n",
    "    w, klist, epoch = np.zeros(len(vocablist)), [0], 0\n",
    "    for i in range(1, max_iter):\n",
    "        k = 0\n",
    "        for j in range(len(data)):\n",
    "            if data['email'][j].sum() == 0: continue\n",
    "            if data['label'][j] * w.dot(data['email'][j]) <= 0:\n",
    "                w += data['label'][j] * data['email'][j]\n",
    "                k += 1\n",
    "        klist.append(k)\n",
    "        epoch += 1\n",
    "        if klist[i] == 0: break\n",
    "    return w, sum(klist), epoch"
   ]
  },
  {
   "cell_type": "code",
   "execution_count": 22,
   "metadata": {},
   "outputs": [],
   "source": [
    "# Implement the 'averaged perceptron algorithm' with max_iter parameter\n",
    "def perceptron_train_avg(data, max_iter):\n",
    "    w, wcount, klist, epoch = np.zeros(len(vocablist)), 0, [0], 0\n",
    "    w_accum = np.zeros(len(vocablist))\n",
    "    for i in range(1, max_iter):\n",
    "        k = 0\n",
    "        for j in range(len(data)):\n",
    "            if data['email'][j].sum() == 0: continue\n",
    "            if data['label'][j] * w.dot(data['email'][j]) <= 0:\n",
    "                w += data['label'][j] * data['email'][j]\n",
    "                k += 1\n",
    "            w_accum += w\n",
    "            wcount += 1\n",
    "        klist.append(k)\n",
    "        epoch += 1\n",
    "        if klist[i] == 0: break\n",
    "    return w_accum / wcount, sum(klist), epoch"
   ]
  },
  {
   "cell_type": "code",
   "execution_count": 23,
   "metadata": {},
   "outputs": [],
   "source": [
    "# Try various maximum number of iterations\n",
    "max_iter = range(2, 15)\n",
    "\n",
    "perceptron_ve = []\n",
    "perceptron_iter = []\n",
    "\n",
    "avg_perceptron_ve = []\n",
    "avg_perceptron_iter = []\n",
    "\n",
    "data = pd.read_csv(\"spam_train.txt\", sep='\\n', header=None, names = ['email'])\n",
    "data['label'] = [x.split(\" \", 1)[0] for x in data['email']]\n",
    "data['label'] = [-1 if x == '0' else 1 for x in data['label']]\n",
    "data['email'] = [x.split(\" \", 1)[1] for x in data['email']]\n",
    "\n",
    "train, valid = train_valid_split(data, 4000)\n",
    "\n",
    "vocablist = build_vocab_list(train, 30)\n",
    "\n",
    "train_fvec = to_feature_vector(train, vocablist)\n",
    "valid_fvec = to_feature_vector(valid, vocablist)\n",
    "train['email'], valid['email'] = list(train_fvec), list(valid_fvec)\n",
    "\n",
    "for m in max_iter: \n",
    "    weight, mistake, epoch = perceptron_train(train, m)\n",
    "    va_error = perceptron_test(weight, valid.reset_index())\n",
    "    perceptron_ve.append(va_error)\n",
    "    perceptron_iter.append(epoch)\n",
    "    \n",
    "    weight_avg, mistake_avg, epoch_avg = perceptron_train_avg(train, m)\n",
    "    va_error_avg = perceptron_test(weight_avg, valid.reset_index())\n",
    "    avg_perceptron_ve.append(va_error_avg)\n",
    "    avg_perceptron_iter.append(epoch_avg)"
   ]
  },
  {
   "cell_type": "code",
   "execution_count": 24,
   "metadata": {},
   "outputs": [
    {
     "data": {
      "image/png": "[encoded data removed]",
      "text/plain": [
       "<Figure size 720x360 with 1 Axes>"
      ]
     },
     "metadata": {
      "needs_background": "light"
     },
     "output_type": "display_data"
    }
   ],
   "source": [
    "# Plot the validation errors\n",
    "val_err_df = pd.DataFrame(list(zip(max_iter, perceptron_ve, avg_perceptron_ve)), \n",
    "                          columns = ['max_iter', 'Perceptron VE', \"Avg Perceptron VE\"])\n",
    "\n",
    "plt.figure(figsize=(10,5))\n",
    "plt.grid('gray', linestyle = '--')\n",
    "plt.plot(val_err_df['max_iter'], val_err_df['Perceptron VE'], marker = 'o')\n",
    "plt.plot(val_err_df['max_iter'], val_err_df['Avg Perceptron VE'], marker = 'o')\n",
    "plt.title(\"Maximum Iteration and Validation Error\", fontsize = 14)\n",
    "plt.xlabel(\"Maximum Iteration\")\n",
    "plt.ylabel(\"Validation Error\")\n",
    "plt.legend(val_err_df.columns[1:], fontsize = 12)\n",
    "plt.show()"
   ]
  },
  {
   "cell_type": "code",
   "execution_count": 25,
   "metadata": {},
   "outputs": [
    {
     "data": {
      "text/html": [
       "<div>\n",
       "<style scoped>\n",
       "    .dataframe tbody tr th:only-of-type {\n",
       "        vertical-align: middle;\n",
       "    }\n",
       "\n",
       "    .dataframe tbody tr th {\n",
       "        vertical-align: top;\n",
       "    }\n",
       "\n",
       "    .dataframe thead th {\n",
       "        text-align: right;\n",
       "    }\n",
       "</style>\n",
       "<table border=\"1\" class=\"dataframe\">\n",
       "  <thead>\n",
       "    <tr style=\"text-align: right;\">\n",
       "      <th></th>\n",
       "      <th>max_iter</th>\n",
       "      <th>Perceptron VE</th>\n",
       "      <th>Avg Perceptron VE</th>\n",
       "    </tr>\n",
       "  </thead>\n",
       "  <tbody>\n",
       "    <tr>\n",
       "      <th>0</th>\n",
       "      <td>2</td>\n",
       "      <td>0.030</td>\n",
       "      <td>0.023</td>\n",
       "    </tr>\n",
       "    <tr>\n",
       "      <th>1</th>\n",
       "      <td>3</td>\n",
       "      <td>0.023</td>\n",
       "      <td>0.020</td>\n",
       "    </tr>\n",
       "    <tr>\n",
       "      <th>2</th>\n",
       "      <td>4</td>\n",
       "      <td>0.022</td>\n",
       "      <td>0.016</td>\n",
       "    </tr>\n",
       "    <tr>\n",
       "      <th>3</th>\n",
       "      <td>5</td>\n",
       "      <td>0.019</td>\n",
       "      <td>0.016</td>\n",
       "    </tr>\n",
       "    <tr>\n",
       "      <th>4</th>\n",
       "      <td>6</td>\n",
       "      <td>0.023</td>\n",
       "      <td>0.016</td>\n",
       "    </tr>\n",
       "    <tr>\n",
       "      <th>5</th>\n",
       "      <td>7</td>\n",
       "      <td>0.017</td>\n",
       "      <td>0.015</td>\n",
       "    </tr>\n",
       "    <tr>\n",
       "      <th>6</th>\n",
       "      <td>8</td>\n",
       "      <td>0.020</td>\n",
       "      <td>0.013</td>\n",
       "    </tr>\n",
       "    <tr>\n",
       "      <th>7</th>\n",
       "      <td>9</td>\n",
       "      <td>0.020</td>\n",
       "      <td>0.014</td>\n",
       "    </tr>\n",
       "    <tr>\n",
       "      <th>8</th>\n",
       "      <td>10</td>\n",
       "      <td>0.014</td>\n",
       "      <td>0.016</td>\n",
       "    </tr>\n",
       "    <tr>\n",
       "      <th>9</th>\n",
       "      <td>11</td>\n",
       "      <td>0.013</td>\n",
       "      <td>0.017</td>\n",
       "    </tr>\n",
       "    <tr>\n",
       "      <th>10</th>\n",
       "      <td>12</td>\n",
       "      <td>0.013</td>\n",
       "      <td>0.016</td>\n",
       "    </tr>\n",
       "    <tr>\n",
       "      <th>11</th>\n",
       "      <td>13</td>\n",
       "      <td>0.013</td>\n",
       "      <td>0.016</td>\n",
       "    </tr>\n",
       "    <tr>\n",
       "      <th>12</th>\n",
       "      <td>14</td>\n",
       "      <td>0.013</td>\n",
       "      <td>0.016</td>\n",
       "    </tr>\n",
       "  </tbody>\n",
       "</table>\n",
       "</div>"
      ],
      "text/plain": [
       "    max_iter  Perceptron VE  Avg Perceptron VE\n",
       "0          2          0.030              0.023\n",
       "1          3          0.023              0.020\n",
       "2          4          0.022              0.016\n",
       "3          5          0.019              0.016\n",
       "4          6          0.023              0.016\n",
       "5          7          0.017              0.015\n",
       "6          8          0.020              0.013\n",
       "7          9          0.020              0.014\n",
       "8         10          0.014              0.016\n",
       "9         11          0.013              0.017\n",
       "10        12          0.013              0.016\n",
       "11        13          0.013              0.016\n",
       "12        14          0.013              0.016"
      ]
     },
     "metadata": {},
     "output_type": "display_data"
    },
    {
     "name": "stdout",
     "output_type": "stream",
     "text": [
      "Best max_iter for Perceptron Algorithm: 11\n",
      "Best max_iter for Average Perceptron Algorithm: 8\n"
     ]
    }
   ],
   "source": [
    "display(val_err_df)\n",
    "print(\"Best max_iter for Perceptron Algorithm:\", val_err_df.iloc[val_err_df['Perceptron VE'].idxmin(), 0])\n",
    "print(\"Best max_iter for Average Perceptron Algorithm:\", val_err_df.iloc[val_err_df['Avg Perceptron VE'].idxmin(), 0])"
   ]
  },
  {
   "cell_type": "markdown",
   "metadata": {},
   "source": [
    "## Problem 10"
   ]
  },
  {
   "cell_type": "code",
   "execution_count": 26,
   "metadata": {},
   "outputs": [],
   "source": [
    "# Change the minimum number of emails condition for vocablist\n",
    "min_email = [10, 20, 30]\n",
    "\n",
    "perceptron_ve = []\n",
    "perceptron_iter = []\n",
    "\n",
    "avg_perceptron_ve = []\n",
    "avg_perceptron_iter = []\n",
    "\n",
    "data = pd.read_csv(\"spam_train.txt\", sep='\\n', header=None, names = ['email'])\n",
    "data['label'] = [x.split(\" \", 1)[0] for x in data['email']]\n",
    "data['label'] = [-1 if x == '0' else 1 for x in data['label']]\n",
    "data['email'] = [x.split(\" \", 1)[1] for x in data['email']]\n",
    "\n",
    "train, valid = train_valid_split(data, 4000)\n",
    "\n",
    "for length in min_email:    \n",
    "    vocablist = build_vocab_list(train, length)\n",
    "    \n",
    "    train_fvec = to_feature_vector(train, vocablist)\n",
    "    valid_fvec = to_feature_vector(valid, vocablist)\n",
    "    train['email'], valid['email'] = list(train_fvec), list(valid_fvec)\n",
    "    \n",
    "    weight, mistake, epoch = perceptron_train(train, 11)\n",
    "    va_error = perceptron_test(weight, valid.reset_index())\n",
    "    perceptron_ve.append(va_error)\n",
    "    perceptron_iter.append(epoch)\n",
    "    \n",
    "    weight_avg, mistake_avg, epoch_avg = perceptron_train_avg(train, 8)\n",
    "    va_error_avg = perceptron_test(weight_avg, valid.reset_index())\n",
    "    avg_perceptron_ve.append(va_error_avg)\n",
    "    avg_perceptron_iter.append(epoch_avg)"
   ]
  },
  {
   "cell_type": "code",
   "execution_count": 27,
   "metadata": {},
   "outputs": [
    {
     "data": {
      "image/png": "[encoded data removed]",
      "text/plain": [
       "<Figure size 720x360 with 1 Axes>"
      ]
     },
     "metadata": {
      "needs_background": "light"
     },
     "output_type": "display_data"
    }
   ],
   "source": [
    "# Plot the validation errors\n",
    "val_err_df = pd.DataFrame(list(zip(min_email, perceptron_ve, avg_perceptron_ve)), \n",
    "                          columns = ['min_email', 'Perceptron VE', \"Avg Perceptron VE\"])\n",
    "\n",
    "plt.figure(figsize=(10,5))\n",
    "plt.grid('gray', linestyle = '--')\n",
    "plt.plot(val_err_df['min_email'], val_err_df['Perceptron VE'], marker = 'o')\n",
    "plt.plot(val_err_df['min_email'], val_err_df['Avg Perceptron VE'], marker = 'o')\n",
    "plt.title(\"Minimum Number of Email Condition and Validation Error\", fontsize = 14)\n",
    "plt.xlabel(\"Min Number of Email Condition\")\n",
    "plt.ylabel(\"Validation Error\")\n",
    "plt.legend(val_err_df.columns[1:], fontsize = 12)\n",
    "plt.show()"
   ]
  },
  {
   "cell_type": "code",
   "execution_count": 28,
   "metadata": {},
   "outputs": [
    {
     "data": {
      "text/html": [
       "<div>\n",
       "<style scoped>\n",
       "    .dataframe tbody tr th:only-of-type {\n",
       "        vertical-align: middle;\n",
       "    }\n",
       "\n",
       "    .dataframe tbody tr th {\n",
       "        vertical-align: top;\n",
       "    }\n",
       "\n",
       "    .dataframe thead th {\n",
       "        text-align: right;\n",
       "    }\n",
       "</style>\n",
       "<table border=\"1\" class=\"dataframe\">\n",
       "  <thead>\n",
       "    <tr style=\"text-align: right;\">\n",
       "      <th></th>\n",
       "      <th>min_email</th>\n",
       "      <th>Perceptron VE</th>\n",
       "      <th>Avg Perceptron VE</th>\n",
       "    </tr>\n",
       "  </thead>\n",
       "  <tbody>\n",
       "    <tr>\n",
       "      <th>0</th>\n",
       "      <td>10</td>\n",
       "      <td>0.018</td>\n",
       "      <td>0.016</td>\n",
       "    </tr>\n",
       "    <tr>\n",
       "      <th>1</th>\n",
       "      <td>20</td>\n",
       "      <td>0.315</td>\n",
       "      <td>0.315</td>\n",
       "    </tr>\n",
       "    <tr>\n",
       "      <th>2</th>\n",
       "      <td>30</td>\n",
       "      <td>0.540</td>\n",
       "      <td>0.299</td>\n",
       "    </tr>\n",
       "  </tbody>\n",
       "</table>\n",
       "</div>"
      ],
      "text/plain": [
       "   min_email  Perceptron VE  Avg Perceptron VE\n",
       "0         10          0.018              0.016\n",
       "1         20          0.315              0.315\n",
       "2         30          0.540              0.299"
      ]
     },
     "metadata": {},
     "output_type": "display_data"
    },
    {
     "name": "stdout",
     "output_type": "stream",
     "text": [
      "Best min_email for Perceptron Algorithm: 10\n",
      "Best min_email for Average Perceptron Algorithm: 10\n",
      "> As both combinations are quite close in terms of valiedation error, we test both algorithms for Problem 11.\n"
     ]
    }
   ],
   "source": [
    "display(val_err_df)\n",
    "print(\"Best min_email for Perceptron Algorithm:\", val_err_df.iloc[val_err_df['Perceptron VE'].idxmin(), 0])\n",
    "print(\"Best min_email for Average Perceptron Algorithm:\", val_err_df.iloc[val_err_df['Avg Perceptron VE'].idxmin(), 0])\n",
    "print(\"> As both combinations are quite close in terms of valiedation error, we test both algorithms for Problem 11.\")"
   ]
  },
  {
   "cell_type": "markdown",
   "metadata": {},
   "source": [
    "## Problem 11"
   ]
  },
  {
   "cell_type": "code",
   "execution_count": 29,
   "metadata": {},
   "outputs": [],
   "source": [
    "# Load the full training data\n",
    "fulldata = pd.read_csv(\"spam_train.txt\", sep='\\n', header=None, names = ['email'])\n",
    "fulldata['label'] = [x.split(\" \", 1)[0] for x in fulldata['email']]\n",
    "fulldata['label'] = [-1 if x == '0' else 1 for x in fulldata['label'] ]\n",
    "fulldata['email'] = [x.split(\" \", 1)[1] for x in fulldata['email']]"
   ]
  },
  {
   "cell_type": "code",
   "execution_count": 30,
   "metadata": {},
   "outputs": [
    {
     "name": "stdout",
     "output_type": "stream",
     "text": [
      "Training Error of Perceptron Algorithm 0.0002\n",
      "Training Error of Average Perceptron Algorithm 0.001\n"
     ]
    }
   ],
   "source": [
    "# Learn using the best configurations\n",
    "# 1) (algo = Perceptron, min_email = 10, max_iter = 11)\n",
    "# 2) (algo = Average Perceptron, min_email = 10, max_iter = 8)\n",
    "vocablist = build_vocab_list(fulldata, 10)\n",
    "   \n",
    "fulldata_fvec = to_feature_vector(fulldata, vocablist)\n",
    "fulldata['email'] = list(fulldata_fvec)\n",
    "    \n",
    "weight, mistake, epoch = perceptron_train(fulldata, 11)\n",
    "print(\"Training Error of Perceptron Algorithm\", perceptron_test(weight, fulldata))\n",
    "\n",
    "weight_avg, mistake_avg, epoch_avg = perceptron_train_avg(fulldata, 8)\n",
    "print(\"Training Error of Average Perceptron Algorithm\", perceptron_test(weight_avg, fulldata))"
   ]
  },
  {
   "cell_type": "code",
   "execution_count": 34,
   "metadata": {},
   "outputs": [],
   "source": [
    "# Load the test set\n",
    "testdata = pd.read_csv(\"spam_test.txt\", sep='\\n', header=None, names = ['email'])\n",
    "testdata['label'] = [x.split(\" \", 1)[0] for x in testdata['email']]\n",
    "testdata['label'] = [-1 if x == '0' else 1 for x in testdata['label']]\n",
    "testdata['email'] = [x.split(\" \", 1)[1] for x in testdata['email']]"
   ]
  },
  {
   "cell_type": "code",
   "execution_count": 35,
   "metadata": {},
   "outputs": [
    {
     "name": "stdout",
     "output_type": "stream",
     "text": [
      "Test Error of Perceptron Algorithm 0.018\n",
      "Test Error of Average Perceptron Algorithm 0.017\n",
      "\n",
      "Our final model is Average Perceptron (min_email = 10, max_iter 8) with validation error of 0.017\n"
     ]
    }
   ],
   "source": [
    "# Error for the test set\n",
    "test_fvec = to_feature_vector(testdata, vocablist)\n",
    "testdata['email'] = list(test_fvec)\n",
    "print(\"Test Error of Perceptron Algorithm\", perceptron_test(weight, testdata))\n",
    "print(\"Test Error of Average Perceptron Algorithm\", perceptron_test(weight_avg, testdata))\n",
    "print(\"\\nOur final model is Average Perceptron (min_email = 10, max_iter 8) with validation error of\", perceptron_test(weight_avg, testdata))"
   ]
  },
  {
   "cell_type": "code",
   "execution_count": null,
   "metadata": {},
   "outputs": [],
   "source": []
  }
 ],
 "metadata": {
  "kernelspec": {
   "display_name": "Python 3",
   "language": "python",
   "name": "python3"
  },
  "language_info": {
   "codemirror_mode": {
    "name": "ipython",
    "version": 3
   },
   "file_extension": ".py",
   "mimetype": "text/x-python",
   "name": "python",
   "nbconvert_exporter": "python",
   "pygments_lexer": "ipython3",
   "version": "3.7.3"
  }
 },
 "nbformat": 4,
 "nbformat_minor": 2
}
